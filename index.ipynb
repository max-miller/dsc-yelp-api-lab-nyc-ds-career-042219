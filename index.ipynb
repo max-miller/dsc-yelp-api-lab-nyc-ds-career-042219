{
 "cells": [
  {
   "cell_type": "markdown",
   "metadata": {},
   "source": [
    "# Yelp API - Lab\n",
    "\n",
    "\n",
    "## Introduction \n",
    "\n",
    "Now that we've seen how the Yelp API works and some basic Folium visualizations, it's time to put those skills to work in order to create a working map! Taking things a step further, you'll also independently explore how to perform pagination in order to retrieve a full results set from the Yelp API!\n",
    "\n",
    "## Objectives\n",
    "\n",
    "You will be able to: \n",
    "* Create HTTP requests to get data from Yelp API\n",
    "* Parse HTTP responses and perform data analysis on the data returned\n",
    "* Perform pagination to retrieve troves of data!\n",
    "* Create a simple geographical system on to view information about selected businesses, at a given location. \n",
    "\n",
    "## Problem Introduction\n",
    "\n",
    "You've now worked with some API calls, but we have yet to see how to retrieve a more complete dataset in a programmatic manner. Returning to the Yelp API, the [documentation](https://www.yelp.com/developers/documentation/v3/business_search) also provides us details regarding the API limits. These often include details about the number of requests a user is allowed to make within a specified time limit and the maximum number of results to be returned. In this case, we are told that any request has a maximum of 50 results per request and defaults to 20. Furthermore, any search will be limited to a total of 1000 results. To retrieve all 1000 of these results, we would have to page through the results piece by piece, retrieving 50 at a time. Processes such as these are often referred to as pagination.\n",
    "\n",
    "In this lab, you will define a search and then paginate over the results to retrieve all of the results. You'll then parse these responses as a DataFrame (for further exploration) and create a map using Folium to visualize the results geographically.\n",
    "\n",
    "## Part I - Make the Initial Request\n",
    "\n",
    "Start by making an initial request to the Yelp API. Your search must include at least 2 parameters: **term** and **location**. For example, you might search for pizza restaurants in NYC. The term and location is up to you, but make the request below."
   ]
  },
  {
   "cell_type": "code",
   "execution_count": 1,
   "metadata": {},
   "outputs": [],
   "source": [
    "import requests\n",
    "client_id = 'i61RC7eamzlnAvzeov915A'\n",
    "api_key = 'ZBalu3gWUNQeP1dzWm5KwbdSGfc58Wqt_PqSh2rqYTOWgqyRc95ge-MXn-Q8tsDNaRWDP9ptKWdyH701yk8YShLXYxugKDaCKrtRgyDaGO-oneoWn0o9MnCsVS3cXHYx'\n",
    "\n",
    "term = 'Pizza'\n",
    "location = 'New York'\n",
    "SEARCH_LIMIT = 1\n",
    "\n",
    "url = 'https://api.yelp.com/v3/businesses/search'\n",
    "\n",
    "headers = {\n",
    "        'Authorization': 'Bearer {}'.format(api_key),\n",
    "    }\n",
    "\n",
    "url_params = {\n",
    "                'term': term.replace(' ', '+'),\n",
    "                'location': location.replace(' ', '+'),\n",
    "                'limit': SEARCH_LIMIT,\n",
    "                'offset': 1\n",
    "            }\n",
    "response = requests.get(url, headers=headers, params=url_params)"
   ]
  },
  {
   "cell_type": "markdown",
   "metadata": {},
   "source": [
    "## Pagination\n",
    "\n",
    "Now that you have an initial response, you can examine the contents of the json container. For example, you might start with ```response.json().keys()```. Here, you'll see a key for `'total'`, which tells you the full number of matching results given your query parameters. Write a loop (or ideally a function) which then makes successive API calls using the offset parameter to retrieve all of the results (or 5000 for a particularly large result set) for the original query. As you do this, be mindful of how you store the data. Your final goal will be to reformat the data concerning the businesses themselves into a pandas DataFrame from the json objects.\n",
    "\n",
    "**Note: be mindful of the API rate limits. You can only make 5000 requests per day, and are also can make requests too fast. Start prototyping small before running a loop that could be faulty. You can also use time.sleep(n) to add delays. For more details see https://www.yelp.com/developers/documentation/v3/rate_limiting.**"
   ]
  },
  {
   "cell_type": "code",
   "execution_count": 2,
   "metadata": {},
   "outputs": [],
   "source": [
    "import pandas as pd\n",
    "import time"
   ]
  },
  {
   "cell_type": "code",
   "execution_count": 3,
   "metadata": {},
   "outputs": [],
   "source": [
    "pizzas = pd.DataFrame()\n",
    "\n",
    "for n in range(0,20):\n",
    "    url_params = {\n",
    "                'term': term.replace(' ', '+'),\n",
    "                'location': location.replace(' ', '+'),\n",
    "                'limit': 50,\n",
    "                'offset': n*50\n",
    "            }\n",
    "    response = requests.get(url, headers=headers, params=url_params)\n",
    "    temp = pd.DataFrame(response.json()['businesses'])\n",
    "    pizzas = pd.concat([pizzas,temp],axis=0)\n",
    "    time.sleep(.1)\n",
    "\n",
    "pizzas.head()\n",
    "pizzas.reset_index(inplace=True)"
   ]
  },
  {
   "cell_type": "code",
   "execution_count": 37,
   "metadata": {},
   "outputs": [
    {
     "data": {
      "text/plain": [
       "10800"
      ]
     },
     "execution_count": 37,
     "metadata": {},
     "output_type": "execute_result"
    }
   ],
   "source": [
    "#url_params = {\n",
    "#                'term': term.replace(' ', '+'),\n",
    "#                'location': location.replace(' ', '+'),\n",
    "#                'limit': 50,\n",
    "#                'offset': n*50\n",
    "#            }\n",
    "#response = requests.get(url, headers=headers, params=url_params)\n",
    "response.json()['total']"
   ]
  },
  {
   "cell_type": "code",
   "execution_count": 4,
   "metadata": {},
   "outputs": [
    {
     "data": {
      "text/plain": [
       "1000"
      ]
     },
     "execution_count": 4,
     "metadata": {},
     "output_type": "execute_result"
    }
   ],
   "source": [
    "len(pizzas)"
   ]
  },
  {
   "cell_type": "markdown",
   "metadata": {},
   "source": [
    "## Exploratory Analysis\n",
    "\n",
    "Take the restaurants from the previous question and do an initial exploratory analysis. At minimum, this should include looking at the distribution of features such as price, rating and number of reviews as well as the relations between these dimensions."
   ]
  },
  {
   "cell_type": "code",
   "execution_count": 5,
   "metadata": {},
   "outputs": [],
   "source": [
    "import matplotlib.pyplot as plt\n",
    "%matplotlib inline"
   ]
  },
  {
   "cell_type": "code",
   "execution_count": 6,
   "metadata": {
    "scrolled": true
   },
   "outputs": [
    {
     "data": {
      "text/plain": [
       "array([[<matplotlib.axes._subplots.AxesSubplot object at 0x7f03fa621be0>]],\n",
       "      dtype=object)"
      ]
     },
     "execution_count": 6,
     "metadata": {},
     "output_type": "execute_result"
    },
    {
     "data": {
      "image/png": "[encoded data removed]",
      "text/plain": [
       "<Figure size 432x288 with 1 Axes>"
      ]
     },
     "metadata": {
      "needs_background": "light"
     },
     "output_type": "display_data"
    }
   ],
   "source": [
    "pizzas.hist('rating')"
   ]
  },
  {
   "cell_type": "code",
   "execution_count": 7,
   "metadata": {},
   "outputs": [],
   "source": [
    "pizzas['price'] = pizzas['price'].fillna('')\n",
    "pizzas['price'] = [len(x) for x in pizzas['price']]\n"
   ]
  },
  {
   "cell_type": "code",
   "execution_count": 8,
   "metadata": {
    "scrolled": true
   },
   "outputs": [
    {
     "data": {
      "text/plain": [
       "array([[<matplotlib.axes._subplots.AxesSubplot object at 0x7f03fa2d76a0>]],\n",
       "      dtype=object)"
      ]
     },
     "execution_count": 8,
     "metadata": {},
     "output_type": "execute_result"
    },
    {
     "data": {
      "image/png": "[encoded data removed]",
      "text/plain": [
       "<Figure size 432x288 with 1 Axes>"
      ]
     },
     "metadata": {
      "needs_background": "light"
     },
     "output_type": "display_data"
    }
   ],
   "source": [
    "pizzas.hist('price')"
   ]
  },
  {
   "cell_type": "code",
   "execution_count": 18,
   "metadata": {},
   "outputs": [
    {
     "data": {
      "text/html": [
       "<div>\n",
       "<style scoped>\n",
       "    .dataframe tbody tr th:only-of-type {\n",
       "        vertical-align: middle;\n",
       "    }\n",
       "\n",
       "    .dataframe tbody tr th {\n",
       "        vertical-align: top;\n",
       "    }\n",
       "\n",
       "    .dataframe thead th {\n",
       "        text-align: right;\n",
       "    }\n",
       "</style>\n",
       "<table border=\"1\" class=\"dataframe\">\n",
       "  <thead>\n",
       "    <tr style=\"text-align: right;\">\n",
       "      <th></th>\n",
       "      <th>index</th>\n",
       "      <th>alias</th>\n",
       "      <th>categories</th>\n",
       "      <th>coordinates</th>\n",
       "      <th>display_phone</th>\n",
       "      <th>distance</th>\n",
       "      <th>id</th>\n",
       "      <th>image_url</th>\n",
       "      <th>is_closed</th>\n",
       "      <th>location</th>\n",
       "      <th>name</th>\n",
       "      <th>phone</th>\n",
       "      <th>price</th>\n",
       "      <th>rating</th>\n",
       "      <th>review_count</th>\n",
       "      <th>transactions</th>\n",
       "      <th>url</th>\n",
       "      <th>lat</th>\n",
       "      <th>lon</th>\n",
       "    </tr>\n",
       "  </thead>\n",
       "  <tbody>\n",
       "    <tr>\n",
       "      <th>0</th>\n",
       "      <td>0</td>\n",
       "      <td>julianas-pizza-brooklyn-5</td>\n",
       "      <td>[{'alias': 'pizza', 'title': 'Pizza'}]</td>\n",
       "      <td>{'latitude': 40.7026153030093, 'longitude': -7...</td>\n",
       "      <td>(718) 596-6700</td>\n",
       "      <td>323.205063</td>\n",
       "      <td>ysqgdbSrezXgVwER2kQWKA</td>\n",
       "      <td>https://s3-media1.fl.yelpcdn.com/bphoto/7JtwTx...</td>\n",
       "      <td>False</td>\n",
       "      <td>{'address1': '19 Old Fulton St', 'address2': '...</td>\n",
       "      <td>Juliana's Pizza</td>\n",
       "      <td>+17185966700</td>\n",
       "      <td>2</td>\n",
       "      <td>4.5</td>\n",
       "      <td>1957</td>\n",
       "      <td>[]</td>\n",
       "      <td>https://www.yelp.com/biz/julianas-pizza-brookl...</td>\n",
       "      <td>40.702615</td>\n",
       "      <td>-73.993416</td>\n",
       "    </tr>\n",
       "    <tr>\n",
       "      <th>1</th>\n",
       "      <td>1</td>\n",
       "      <td>prince-street-pizza-new-york-2</td>\n",
       "      <td>[{'alias': 'pizza', 'title': 'Pizza'}, {'alias...</td>\n",
       "      <td>{'latitude': 40.7229087705545, 'longitude': -7...</td>\n",
       "      <td>(212) 966-4100</td>\n",
       "      <td>1941.963817</td>\n",
       "      <td>zj8Lq1T8KIC5zwFief15jg</td>\n",
       "      <td>https://s3-media3.fl.yelpcdn.com/bphoto/ZAukOy...</td>\n",
       "      <td>False</td>\n",
       "      <td>{'address1': '27 Prince St', 'address2': None,...</td>\n",
       "      <td>Prince Street Pizza</td>\n",
       "      <td>+12129664100</td>\n",
       "      <td>1</td>\n",
       "      <td>4.5</td>\n",
       "      <td>2746</td>\n",
       "      <td>[pickup, delivery]</td>\n",
       "      <td>https://www.yelp.com/biz/prince-street-pizza-n...</td>\n",
       "      <td>40.722909</td>\n",
       "      <td>-73.994486</td>\n",
       "    </tr>\n",
       "    <tr>\n",
       "      <th>2</th>\n",
       "      <td>2</td>\n",
       "      <td>lombardis-pizza-new-york-4</td>\n",
       "      <td>[{'alias': 'pizza', 'title': 'Pizza'}]</td>\n",
       "      <td>{'latitude': 40.7215934960083, 'longitude': -7...</td>\n",
       "      <td>(212) 941-7994</td>\n",
       "      <td>1798.995978</td>\n",
       "      <td>WIhm0W9197f_rRtDziq5qQ</td>\n",
       "      <td>https://s3-media1.fl.yelpcdn.com/bphoto/UZ6V_h...</td>\n",
       "      <td>False</td>\n",
       "      <td>{'address1': '32 Spring St', 'address2': '', '...</td>\n",
       "      <td>Lombardi's Pizza</td>\n",
       "      <td>+12129417994</td>\n",
       "      <td>2</td>\n",
       "      <td>4.0</td>\n",
       "      <td>5843</td>\n",
       "      <td>[pickup, delivery]</td>\n",
       "      <td>https://www.yelp.com/biz/lombardis-pizza-new-y...</td>\n",
       "      <td>40.721593</td>\n",
       "      <td>-73.995596</td>\n",
       "    </tr>\n",
       "    <tr>\n",
       "      <th>3</th>\n",
       "      <td>3</td>\n",
       "      <td>l-industrie-pizzeria-brooklyn</td>\n",
       "      <td>[{'alias': 'pizza', 'title': 'Pizza'}]</td>\n",
       "      <td>{'latitude': 40.71162, 'longitude': -73.95783}</td>\n",
       "      <td>(718) 599-0002</td>\n",
       "      <td>3145.016041</td>\n",
       "      <td>v1DHGRNCH9247WLYoaoA9A</td>\n",
       "      <td>https://s3-media2.fl.yelpcdn.com/bphoto/SRL_Rz...</td>\n",
       "      <td>False</td>\n",
       "      <td>{'address1': '254 S 2nd St', 'address2': '', '...</td>\n",
       "      <td>L'industrie Pizzeria</td>\n",
       "      <td>+17185990002</td>\n",
       "      <td>1</td>\n",
       "      <td>5.0</td>\n",
       "      <td>416</td>\n",
       "      <td>[pickup, delivery]</td>\n",
       "      <td>https://www.yelp.com/biz/l-industrie-pizzeria-...</td>\n",
       "      <td>40.711620</td>\n",
       "      <td>-73.957830</td>\n",
       "    </tr>\n",
       "    <tr>\n",
       "      <th>4</th>\n",
       "      <td>4</td>\n",
       "      <td>grimaldis-pizzeria-brooklyn-4</td>\n",
       "      <td>[{'alias': 'pizza', 'title': 'Pizza'}]</td>\n",
       "      <td>{'latitude': 40.70257, 'longitude': -73.99323}</td>\n",
       "      <td>(718) 858-4300</td>\n",
       "      <td>327.456365</td>\n",
       "      <td>2ggi1luerd3Mf_C82JvCYg</td>\n",
       "      <td>https://s3-media2.fl.yelpcdn.com/bphoto/TNKqW3...</td>\n",
       "      <td>False</td>\n",
       "      <td>{'address1': '1 Front St', 'address2': '', 'ad...</td>\n",
       "      <td>Grimaldi's Pizzeria</td>\n",
       "      <td>+17188584300</td>\n",
       "      <td>2</td>\n",
       "      <td>3.5</td>\n",
       "      <td>4476</td>\n",
       "      <td>[]</td>\n",
       "      <td>https://www.yelp.com/biz/grimaldis-pizzeria-br...</td>\n",
       "      <td>40.702570</td>\n",
       "      <td>-73.993230</td>\n",
       "    </tr>\n",
       "  </tbody>\n",
       "</table>\n",
       "</div>"
      ],
      "text/plain": [
       "   index                           alias  \\\n",
       "0      0       julianas-pizza-brooklyn-5   \n",
       "1      1  prince-street-pizza-new-york-2   \n",
       "2      2      lombardis-pizza-new-york-4   \n",
       "3      3   l-industrie-pizzeria-brooklyn   \n",
       "4      4   grimaldis-pizzeria-brooklyn-4   \n",
       "\n",
       "                                          categories  \\\n",
       "0             [{'alias': 'pizza', 'title': 'Pizza'}]   \n",
       "1  [{'alias': 'pizza', 'title': 'Pizza'}, {'alias...   \n",
       "2             [{'alias': 'pizza', 'title': 'Pizza'}]   \n",
       "3             [{'alias': 'pizza', 'title': 'Pizza'}]   \n",
       "4             [{'alias': 'pizza', 'title': 'Pizza'}]   \n",
       "\n",
       "                                         coordinates   display_phone  \\\n",
       "0  {'latitude': 40.7026153030093, 'longitude': -7...  (718) 596-6700   \n",
       "1  {'latitude': 40.7229087705545, 'longitude': -7...  (212) 966-4100   \n",
       "2  {'latitude': 40.7215934960083, 'longitude': -7...  (212) 941-7994   \n",
       "3     {'latitude': 40.71162, 'longitude': -73.95783}  (718) 599-0002   \n",
       "4     {'latitude': 40.70257, 'longitude': -73.99323}  (718) 858-4300   \n",
       "\n",
       "      distance                      id  \\\n",
       "0   323.205063  ysqgdbSrezXgVwER2kQWKA   \n",
       "1  1941.963817  zj8Lq1T8KIC5zwFief15jg   \n",
       "2  1798.995978  WIhm0W9197f_rRtDziq5qQ   \n",
       "3  3145.016041  v1DHGRNCH9247WLYoaoA9A   \n",
       "4   327.456365  2ggi1luerd3Mf_C82JvCYg   \n",
       "\n",
       "                                           image_url  is_closed  \\\n",
       "0  https://s3-media1.fl.yelpcdn.com/bphoto/7JtwTx...      False   \n",
       "1  https://s3-media3.fl.yelpcdn.com/bphoto/ZAukOy...      False   \n",
       "2  https://s3-media1.fl.yelpcdn.com/bphoto/UZ6V_h...      False   \n",
       "3  https://s3-media2.fl.yelpcdn.com/bphoto/SRL_Rz...      False   \n",
       "4  https://s3-media2.fl.yelpcdn.com/bphoto/TNKqW3...      False   \n",
       "\n",
       "                                            location                  name  \\\n",
       "0  {'address1': '19 Old Fulton St', 'address2': '...       Juliana's Pizza   \n",
       "1  {'address1': '27 Prince St', 'address2': None,...   Prince Street Pizza   \n",
       "2  {'address1': '32 Spring St', 'address2': '', '...      Lombardi's Pizza   \n",
       "3  {'address1': '254 S 2nd St', 'address2': '', '...  L'industrie Pizzeria   \n",
       "4  {'address1': '1 Front St', 'address2': '', 'ad...   Grimaldi's Pizzeria   \n",
       "\n",
       "          phone  price  rating  review_count        transactions  \\\n",
       "0  +17185966700      2     4.5          1957                  []   \n",
       "1  +12129664100      1     4.5          2746  [pickup, delivery]   \n",
       "2  +12129417994      2     4.0          5843  [pickup, delivery]   \n",
       "3  +17185990002      1     5.0           416  [pickup, delivery]   \n",
       "4  +17188584300      2     3.5          4476                  []   \n",
       "\n",
       "                                                 url        lat        lon  \n",
       "0  https://www.yelp.com/biz/julianas-pizza-brookl...  40.702615 -73.993416  \n",
       "1  https://www.yelp.com/biz/prince-street-pizza-n...  40.722909 -73.994486  \n",
       "2  https://www.yelp.com/biz/lombardis-pizza-new-y...  40.721593 -73.995596  \n",
       "3  https://www.yelp.com/biz/l-industrie-pizzeria-...  40.711620 -73.957830  \n",
       "4  https://www.yelp.com/biz/grimaldis-pizzeria-br...  40.702570 -73.993230  "
      ]
     },
     "execution_count": 18,
     "metadata": {},
     "output_type": "execute_result"
    }
   ],
   "source": [
    "pizzas['lat'] = [pizzas.loc[n]['coordinates']['latitude'] for n in range(0,len(pizzas))]\n",
    "pizzas['lon'] = [pizzas.loc[n]['coordinates']['longitude'] for n in range(0,len(pizzas))]\n",
    "pizzas.head()\n"
   ]
  },
  {
   "cell_type": "markdown",
   "metadata": {},
   "source": [
    "## Mapping\n",
    "\n",
    "Look at the initial Yelp example and try and make a map using Folium of the restaurants you retrieved. Be sure to also add popups to the markers giving some basic information such as name, rating and price."
   ]
  },
  {
   "cell_type": "code",
   "execution_count": 21,
   "metadata": {},
   "outputs": [],
   "source": [
    "import folium\n",
    "base_map = folium.Map([40.7128, 74.006], zoom_start=13)\n",
    "\n",
    "\n",
    "for n in range(0,25):\n",
    "    marker = folium.Marker(location=[pizzas.loc[n]['lat'], pizzas.loc[n]['lon']])\n",
    "    marker.add_to(base_map)\n",
    "    \n",
    "base_map.save('map.html')"
   ]
  },
  {
   "cell_type": "markdown",
   "metadata": {},
   "source": [
    "## Summary\n",
    "\n",
    "Nice work! In this lab, you synthesized your skills for the day, making multiple API calls to Yelp in order to paginate through a results set, performing some basic exploratory analysis and then creating a nice map visual to display the results! Well done!"
   ]
  }
 ],
 "metadata": {
  "kernelspec": {
   "display_name": "Python 3",
   "language": "python",
   "name": "python3"
  },
  "language_info": {
   "codemirror_mode": {
    "name": "ipython",
    "version": 3
   },
   "file_extension": ".py",
   "mimetype": "text/x-python",
   "name": "python",
   "nbconvert_exporter": "python",
   "pygments_lexer": "ipython3",
   "version": "3.6.6"
  }
 },
 "nbformat": 4,
 "nbformat_minor": 2
}
